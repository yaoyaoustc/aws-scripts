{
 "cells": [
  {
   "cell_type": "code",
   "execution_count": 149,
   "metadata": {},
   "outputs": [],
   "source": [
    "import psycopg2\n",
    "import boto3\n",
    "from rdsiac import list_db \n",
    "from sql_queries import create_table_queries, drop_table_queries, song_table_insert, artist_table_insert, time_table_insert, user_table_insert\n",
    "import glob\n",
    "import os\n",
    "import pandas as pd"
   ]
  },
  {
   "cell_type": "code",
   "execution_count": 144,
   "metadata": {},
   "outputs": [
    {
     "output_type": "stream",
     "name": "stdout",
     "text": "The MasterUsername is psadmin\nThe endpoint is mypostgresdb.cyudtagxfp4e.ap-southeast-2.rds.amazonaws.com, port 5432\nThe DB status is available\n{'DBInstanceIdentifier': 'mypostgresdb', 'DBInstanceClass': 'db.t2.micro', 'Engine': 'postgres', 'DBInstanceStatus': 'available', 'MasterUsername': 'psadmin', 'Endpoint': {'Address': 'mypostgresdb.cyudtagxfp4e.ap-southeast-2.rds.amazonaws.com', 'Port': 5432, 'HostedZoneId': 'Z32T0VRHXEXS0V'}, 'AllocatedStorage': 20, 'InstanceCreateTime': datetime.datetime(2020, 6, 14, 4, 24, 39, 256000, tzinfo=tzutc()), 'PreferredBackupWindow': '15:05-15:35', 'BackupRetentionPeriod': 10, 'DBSecurityGroups': [], 'VpcSecurityGroups': [{'VpcSecurityGroupId': 'sg-087a6b6e1b5e7e03a', 'Status': 'active'}], 'DBParameterGroups': [{'DBParameterGroupName': 'default.postgres11', 'ParameterApplyStatus': 'in-sync'}], 'AvailabilityZone': 'ap-southeast-2a', 'DBSubnetGroup': {'DBSubnetGroupName': 'default', 'DBSubnetGroupDescription': 'default', 'VpcId': 'vpc-c62829a1', 'SubnetGroupStatus': 'Complete', 'Subnets': [{'SubnetIdentifier': 'subnet-0210885a', 'SubnetAvailabilityZone': {'Name': 'ap-southeast-2c'}, 'SubnetStatus': 'Active'}, {'SubnetIdentifier': 'subnet-45d83123', 'SubnetAvailabilityZone': {'Name': 'ap-southeast-2b'}, 'SubnetStatus': 'Active'}, {'SubnetIdentifier': 'subnet-525d471b', 'SubnetAvailabilityZone': {'Name': 'ap-southeast-2a'}, 'SubnetStatus': 'Active'}]}, 'PreferredMaintenanceWindow': 'mon:14:01-mon:14:31', 'PendingModifiedValues': {}, 'LatestRestorableTime': datetime.datetime(2020, 6, 14, 6, 40, 55, tzinfo=tzutc()), 'MultiAZ': False, 'EngineVersion': '11.6', 'AutoMinorVersionUpgrade': True, 'ReadReplicaDBInstanceIdentifiers': [], 'LicenseModel': 'postgresql-license', 'OptionGroupMemberships': [{'OptionGroupName': 'default:postgres-11', 'Status': 'in-sync'}], 'PubliclyAccessible': True, 'StorageType': 'gp2', 'DbInstancePort': 0, 'StorageEncrypted': False, 'DbiResourceId': 'db-QMPRZJO63ELFBEXS2C7CC6CDTU', 'CACertificateIdentifier': 'rds-ca-2019', 'DomainMemberships': [], 'CopyTagsToSnapshot': False, 'MonitoringInterval': 0, 'DBInstanceArn': 'arn:aws:rds:ap-southeast-2:845939615520:db:mypostgresdb', 'IAMDatabaseAuthenticationEnabled': False, 'PerformanceInsightsEnabled': False, 'DeletionProtection': False, 'AssociatedRoles': []}\n"
    }
   ],
   "source": [
    "rds_resource = boto3.client('rds')\n",
    "list_db(rds_resource)"
   ]
  },
  {
   "cell_type": "code",
   "execution_count": 13,
   "metadata": {},
   "outputs": [],
   "source": [
    "# connect to aws postgres\n",
    "def connect_postgres():\n",
    "    conn = psycopg2.connect(\"host = mypostgresdb.cyudtagxfp4e.ap-southeast-2.rds.amazonaws.com \\\n",
    "                             dbname = postgres \\\n",
    "                             user = psadmin \\\n",
    "                             password = \"\n",
    "                           )\n",
    "    conn.set_session(autocommit=True)\n",
    "    cur = conn.cursor()\n",
    "    cur.execute(\"DROP DATABASE IF EXISTS sparkifydb\")\n",
    "    cur.execute(\"CREATE DATABASE sparkifydb WITH ENCODING 'utf8' TEMPLATE template0\")\n",
    "    conn.close()\n",
    "    \n",
    "    conn = psycopg2.connect(\"host = mypostgresdb.cyudtagxfp4e.ap-southeast-2.rds.amazonaws.com \\\n",
    "                             dbname = sparkifydb \\\n",
    "                             user = psadmin \\\n",
    "                             password = \"\n",
    "                           )\n",
    "    cur = conn.cursor()\n",
    "    return cur, conn"
   ]
  },
  {
   "cell_type": "code",
   "execution_count": 14,
   "metadata": {},
   "outputs": [],
   "source": [
    "cur,conn = connect_postgres()"
   ]
  },
  {
   "cell_type": "code",
   "execution_count": 16,
   "metadata": {},
   "outputs": [],
   "source": [
    "def drop_tables(cur,conn):\n",
    "    for query in drop_table_queries:\n",
    "        cur.execute(query)\n",
    "        conn.commit()"
   ]
  },
  {
   "cell_type": "code",
   "execution_count": 17,
   "metadata": {},
   "outputs": [],
   "source": [
    "# create tables for future process"
   ]
  },
  {
   "cell_type": "code",
   "execution_count": 18,
   "metadata": {},
   "outputs": [],
   "source": [
    "drop_tables(cur,conn)"
   ]
  },
  {
   "cell_type": "code",
   "execution_count": 19,
   "metadata": {},
   "outputs": [],
   "source": [
    "def create_tables(cur,conn):\n",
    "    for query in create_table_queries:\n",
    "        cur.execute(query)\n",
    "        conn.commit()"
   ]
  },
  {
   "cell_type": "code",
   "execution_count": 20,
   "metadata": {},
   "outputs": [],
   "source": [
    "create_tables(cur,conn)"
   ]
  },
  {
   "cell_type": "code",
   "execution_count": 21,
   "metadata": {},
   "outputs": [],
   "source": [
    "def check_tables(cur,conn):\n",
    "    cur.execute(\"\"\"SELECT table_name \n",
    "                   FROM information_schema.tables\n",
    "                   WHERE table_schema = 'public'\"\"\")\n",
    "    for table in cur.fetchall():\n",
    "        print(table)"
   ]
  },
  {
   "cell_type": "code",
   "execution_count": null,
   "metadata": {},
   "outputs": [],
   "source": [
    "# check if tables are created successfully"
   ]
  },
  {
   "cell_type": "code",
   "execution_count": 147,
   "metadata": {},
   "outputs": [
    {
     "output_type": "stream",
     "name": "stdout",
     "text": "('artists',)\n('songs',)\n('time',)\n('songplays',)\n('users',)\n"
    }
   ],
   "source": [
    "check_tables(cur,conn)"
   ]
  },
  {
   "cell_type": "code",
   "execution_count": null,
   "metadata": {},
   "outputs": [],
   "source": [
    "# next load the data on disk, process them"
   ]
  },
  {
   "cell_type": "code",
   "execution_count": 95,
   "metadata": {
    "tags": [
     "outputPrepend",
     "outputPrepend"
    ]
   },
   "outputs": [],
   "source": [
    "def get_files(filepath):\n",
    "    datalist = []\n",
    "    eventlist = []\n",
    "    for file in glob.glob(os.path.join(filepath,'**/*.json'),recursive=True):\n",
    "        if 'events' in file:\n",
    "            eventlist.append(file)\n",
    "        else:\n",
    "            datalist.append(file)\n",
    "    return datalist, eventlist\n",
    "\n",
    "\n",
    "datalist, eventlist = get_files('./data/')"
   ]
  },
  {
   "cell_type": "code",
   "execution_count": 96,
   "metadata": {},
   "outputs": [],
   "source": [
    "# insert into artist table"
   ]
  },
  {
   "cell_type": "code",
   "execution_count": 110,
   "metadata": {},
   "outputs": [
    {
     "output_type": "stream",
     "name": "stdout",
     "text": "total records inserted: 60\n"
    }
   ],
   "source": [
    "def insert_artist(datalist):\n",
    "    count = 0\n",
    "    for song in datalist:\n",
    "        count += 1\n",
    "        songdf = pd.read_json(song, lines=True)\n",
    "        artist_data = songdf.loc[:,['artist_id','artist_name','artist_location','artist_latitude','artist_longitude']].values\n",
    "        cur.execute(artist_table_insert,list(artist_data[0]))\n",
    "        conn.commit()\n",
    "    print(f\"total records inserted: {count}\")\n",
    "\n",
    "insert_artist(datalist)\n"
   ]
  },
  {
   "cell_type": "code",
   "execution_count": 186,
   "metadata": {},
   "outputs": [
    {
     "output_type": "stream",
     "name": "stdout",
     "text": "[(90, 'Andrea', 'Butler', 'F', 'free'), (36, 'Matthew', 'Jones', 'M', 'paid'), (79, 'James', 'Martin', 'M', 'free'), (16, 'Rylan', 'George', 'M', 'free'), (42, 'Harper', 'Barrett', 'M', 'paid'), (2, 'Jizelle', 'Benjamin', 'F', 'free'), (26, 'Ryan', 'Smith', 'M', 'free'), (69, 'Anabelle', 'Simpson', 'F', 'free'), (63, 'Ayla', 'Johnson', 'F', 'free'), (48, 'Marina', 'Sutton', 'F', 'free'), (14, 'Theodore', 'Harris', 'M', 'free'), (86, 'Aiden', 'Hess', 'M', 'free'), (73, 'Jacob', 'Klein', 'M', 'paid'), (75, 'Joseph', 'Gutierrez', 'M', 'free'), (83, 'Stefany', 'White', 'F', 'free'), (62, 'Connar', 'Moreno', 'M', 'free'), (78, 'Chloe', 'Roth', 'F', 'free'), (50, 'Ava', 'Robinson', 'F', 'free'), (72, 'Hayden', 'Brock', 'F', 'paid'), (59, 'Lily', 'Cooper', 'F', 'free'), (8, 'Kaylee', 'Summers', 'F', 'free'), (80, 'Tegan', 'Levine', 'F', 'paid'), (29, 'Jacqueline', 'Lynch', 'F', 'paid'), (96, 'Cierra', 'Finley', 'F', 'free'), (15, 'Lily', 'Koch', 'F', 'paid'), (70, 'Jaleah', 'Hayes', 'F', 'paid'), (25, 'Jayden', 'Graves', 'M', 'paid'), (60, 'Devin', 'Larson', 'M', 'free'), (49, 'Chloe', 'Cuevas', 'F', 'paid'), (81, 'Sienna', 'Colon', 'F', 'free'), (88, 'Mohammad', 'Rodriguez', 'M', 'free'), (32, 'Lily', 'Burns', 'F', 'free'), (92, 'Ryann', 'Smith', 'F', 'free'), (95, 'Sara', 'Johnson', 'F', 'paid'), (100, 'Adler', 'Barrera', 'M', 'free'), (66, 'Kevin', 'Arellano', 'M', 'free'), (24, 'Layla', 'Griffin', 'F', 'paid'), (61, 'Samuel', 'Gonzalez', 'M', 'free'), (52, 'Theodore', 'Smith', 'M', 'free'), (76, 'Jayden', 'Duffy', 'F', 'free'), (9, 'Wyatt', 'Scott', 'M', 'free'), (28, 'Brantley', 'West', 'M', 'free'), (77, 'Magdalene', 'Herman', 'F', 'free'), (17, 'Makinley', 'Jones', 'F', 'free'), (51, 'Maia', 'Burke', 'F', 'free'), (74, 'Braden', 'Parker', 'M', 'free'), (56, 'Cienna', 'Freeman', 'F', 'free'), (94, 'Noah', 'Chavez', 'M', 'free'), (98, 'Jordyn', 'Powell', 'F', 'free'), (101, 'Jayden', 'Fox', 'M', 'free'), (7, 'Adelyn', 'Jordan', 'F', 'free'), (35, 'Molly', 'Taylor', 'F', 'free'), (10, 'Sylvie', 'Cruz', 'F', 'free'), (85, 'Kinsley', 'Young', 'F', 'paid'), (47, 'Kimber', 'Norris', 'F', 'free'), (11, 'Christian', 'Porter', 'F', 'free'), (58, 'Emily', 'Benson', 'F', 'paid'), (20, 'Aiden', 'Ramirez', 'M', 'paid'), (43, 'Jahiem', 'Miles', 'M', 'free'), (40, 'Tucker', 'Garrison', 'M', 'free'), (67, 'Colm', 'Santana', 'M', 'free'), (34, 'Evelin', 'Ayala', 'F', 'free'), (97, 'Kate', 'Harrell', 'F', 'paid'), (99, 'Ann', 'Banks', 'F', 'free'), (4, 'Alivia', 'Terrell', 'F', 'free'), (44, 'Aleena', 'Kirby', 'F', 'paid'), (89, 'Kynnedi', 'Sanchez', 'F', 'free'), (27, 'Carlos', 'Carter', 'M', 'free'), (33, 'Bronson', 'Harris', 'M', 'free'), (54, 'Kaleb', 'Cook', 'M', 'free'), (53, 'Celeste', 'Williams', 'F', 'free'), (30, 'Avery', 'Watkins', 'F', 'paid'), (6, 'Cecilia', 'Owens', 'F', 'free'), (37, 'Jordan', 'Hicks', 'F', 'free')]\n"
    }
   ],
   "source": [
    "def check_results():\n",
    "    #cur.execute(\"\"\"rollback;\"\"\")\n",
    "    cur.execute(\"\"\"select * from users;\"\"\")\n",
    "    print(cur.fetchall())\n",
    "    conn.commit()\n",
    "\n",
    "check_results()"
   ]
  },
  {
   "cell_type": "code",
   "execution_count": 116,
   "metadata": {},
   "outputs": [
    {
     "output_type": "stream",
     "name": "stdout",
     "text": "total records inserted into song table: 60\n"
    }
   ],
   "source": [
    "def insert_song(datalist):\n",
    "    count = 0\n",
    "    for song in datalist:\n",
    "        count += 1\n",
    "        songdf = pd.read_json(song, lines=True)\n",
    "        song_data = songdf.loc[:,['song_id','title','artist_id','year','duration']].values\n",
    "        cur.execute(song_table_insert,list(song_data[0]))\n",
    "        conn.commit()\n",
    "    print(f\"total records inserted into song table: {count}\")\n",
    "\n",
    "insert_song(datalist)"
   ]
  },
  {
   "cell_type": "code",
   "execution_count": null,
   "metadata": {},
   "outputs": [],
   "source": [
    "# part 2: event data"
   ]
  },
  {
   "cell_type": "code",
   "execution_count": 124,
   "metadata": {},
   "outputs": [
    {
     "output_type": "stream",
     "name": "stdout",
     "text": "read 95 records from 1 file\nread 299 records from 2 file\nread 157 records from 3 file\nread 189 records from 4 file\nread 15 records from 5 file\nread 457 records from 6 file\nread 223 records from 7 file\nread 270 records from 8 file\nread 59 records from 9 file\nread 146 records from 10 file\nread 171 records from 11 file\nread 388 records from 12 file\nread 202 records from 13 file\nread 366 records from 14 file\nread 379 records from 15 file\nread 213 records from 16 file\nread 283 records from 17 file\nread 303 records from 18 file\nread 533 records from 19 file\nread 408 records from 20 file\nread 327 records from 21 file\nread 98 records from 22 file\nread 96 records from 23 file\nread 394 records from 24 file\nread 517 records from 25 file\nread 184 records from 26 file\nread 433 records from 27 file\nread 111 records from 28 file\nread 382 records from 29 file\nread 358 records from 30 file\n"
    },
    {
     "output_type": "execute_result",
     "data": {
      "text/plain": "(8056, 18)"
     },
     "metadata": {},
     "execution_count": 124
    }
   ],
   "source": [
    "def read_events(eventlist):\n",
    "    eventdf = pd.DataFrame()\n",
    "    count = 0\n",
    "    for event in eventlist:\n",
    "        count += 1\n",
    "        eachdf = pd.read_json(event, lines = True)\n",
    "        print(f\"read {eachdf.shape[0]} records from {count} file\")\n",
    "        eventdf = eventdf.append(eachdf)\n",
    "    return eventdf\n",
    "\n",
    "eventdf = read_events(eventlist)\n",
    "eventdf.shape"
   ]
  },
  {
   "cell_type": "code",
   "execution_count": 175,
   "metadata": {},
   "outputs": [
    {
     "output_type": "stream",
     "name": "stdout",
     "text": "finish insert 0 records\nfinish insert 1000 records\n"
    },
    {
     "output_type": "error",
     "ename": "KeyboardInterrupt",
     "evalue": "",
     "traceback": [
      "\u001b[0;31m---------------------------------------------------------------------------\u001b[0m",
      "\u001b[0;31mKeyboardInterrupt\u001b[0m                         Traceback (most recent call last)",
      "\u001b[0;32m<ipython-input-175-1b889538010e>\u001b[0m in \u001b[0;36m<module>\u001b[0;34m\u001b[0m\n\u001b[1;32m     12\u001b[0m             \u001b[0mprint\u001b[0m\u001b[0;34m(\u001b[0m\u001b[0;34mf\"finish insert {i} records\"\u001b[0m\u001b[0;34m)\u001b[0m\u001b[0;34m\u001b[0m\u001b[0;34m\u001b[0m\u001b[0m\n\u001b[1;32m     13\u001b[0m \u001b[0;34m\u001b[0m\u001b[0m\n\u001b[0;32m---> 14\u001b[0;31m \u001b[0minsert_time\u001b[0m\u001b[0;34m(\u001b[0m\u001b[0meventdf\u001b[0m\u001b[0;34m)\u001b[0m\u001b[0;34m\u001b[0m\u001b[0;34m\u001b[0m\u001b[0m\n\u001b[0m",
      "\u001b[0;32m<ipython-input-175-1b889538010e>\u001b[0m in \u001b[0;36minsert_time\u001b[0;34m(eventdf)\u001b[0m\n\u001b[1;32m      8\u001b[0m \u001b[0;34m\u001b[0m\u001b[0m\n\u001b[1;32m      9\u001b[0m     \u001b[0;32mfor\u001b[0m \u001b[0mi\u001b[0m\u001b[0;34m,\u001b[0m \u001b[0mrow\u001b[0m \u001b[0;32min\u001b[0m \u001b[0mtime_df\u001b[0m\u001b[0;34m.\u001b[0m\u001b[0miterrows\u001b[0m\u001b[0;34m(\u001b[0m\u001b[0;34m)\u001b[0m\u001b[0;34m:\u001b[0m\u001b[0;34m\u001b[0m\u001b[0;34m\u001b[0m\u001b[0m\n\u001b[0;32m---> 10\u001b[0;31m         \u001b[0mcur\u001b[0m\u001b[0;34m.\u001b[0m\u001b[0mexecute\u001b[0m\u001b[0;34m(\u001b[0m\u001b[0mtime_table_insert\u001b[0m\u001b[0;34m,\u001b[0m \u001b[0mlist\u001b[0m\u001b[0;34m(\u001b[0m\u001b[0mrow\u001b[0m\u001b[0;34m)\u001b[0m\u001b[0;34m)\u001b[0m\u001b[0;34m\u001b[0m\u001b[0;34m\u001b[0m\u001b[0m\n\u001b[0m\u001b[1;32m     11\u001b[0m         \u001b[0;32mif\u001b[0m \u001b[0mi\u001b[0m \u001b[0;34m%\u001b[0m \u001b[0;36m1000\u001b[0m \u001b[0;34m==\u001b[0m \u001b[0;36m0\u001b[0m\u001b[0;34m:\u001b[0m\u001b[0;34m\u001b[0m\u001b[0;34m\u001b[0m\u001b[0m\n\u001b[1;32m     12\u001b[0m             \u001b[0mprint\u001b[0m\u001b[0;34m(\u001b[0m\u001b[0;34mf\"finish insert {i} records\"\u001b[0m\u001b[0;34m)\u001b[0m\u001b[0;34m\u001b[0m\u001b[0;34m\u001b[0m\u001b[0m\n",
      "\u001b[0;32m~/anaconda3/lib/python3.7/encodings/utf_8.py\u001b[0m in \u001b[0;36mdecode\u001b[0;34m(input, errors)\u001b[0m\n\u001b[1;32m     13\u001b[0m \u001b[0mencode\u001b[0m \u001b[0;34m=\u001b[0m \u001b[0mcodecs\u001b[0m\u001b[0;34m.\u001b[0m\u001b[0mutf_8_encode\u001b[0m\u001b[0;34m\u001b[0m\u001b[0;34m\u001b[0m\u001b[0m\n\u001b[1;32m     14\u001b[0m \u001b[0;34m\u001b[0m\u001b[0m\n\u001b[0;32m---> 15\u001b[0;31m \u001b[0;32mdef\u001b[0m \u001b[0mdecode\u001b[0m\u001b[0;34m(\u001b[0m\u001b[0minput\u001b[0m\u001b[0;34m,\u001b[0m \u001b[0merrors\u001b[0m\u001b[0;34m=\u001b[0m\u001b[0;34m'strict'\u001b[0m\u001b[0;34m)\u001b[0m\u001b[0;34m:\u001b[0m\u001b[0;34m\u001b[0m\u001b[0;34m\u001b[0m\u001b[0m\n\u001b[0m\u001b[1;32m     16\u001b[0m     \u001b[0;32mreturn\u001b[0m \u001b[0mcodecs\u001b[0m\u001b[0;34m.\u001b[0m\u001b[0mutf_8_decode\u001b[0m\u001b[0;34m(\u001b[0m\u001b[0minput\u001b[0m\u001b[0;34m,\u001b[0m \u001b[0merrors\u001b[0m\u001b[0;34m,\u001b[0m \u001b[0;32mTrue\u001b[0m\u001b[0;34m)\u001b[0m\u001b[0;34m\u001b[0m\u001b[0;34m\u001b[0m\u001b[0m\n\u001b[1;32m     17\u001b[0m \u001b[0;34m\u001b[0m\u001b[0m\n",
      "\u001b[0;31mKeyboardInterrupt\u001b[0m: "
     ]
    }
   ],
   "source": [
    "def insert_time(eventdf):\n",
    "    timecol = eventdf[eventdf['page'] == 'NextSong'].loc[:,'ts'].astype('datetime64[ms]')\n",
    "    column_labels = [\"timestamp\", \"hour\", \"day\", \"weelofyear\", \"month\", \"year\", \"weekday\"]\n",
    "    time_data = []\n",
    "    for data in timecol:\n",
    "        time_data.append([data ,data.hour, data.day, data.weekofyear, data.month, data.year, data.day_name()])\n",
    "    time_df = pd.DataFrame.from_records(data = time_data, columns = column_labels)\n",
    "\n",
    "    for i, row in time_df.iterrows():\n",
    "        cur.execute(time_table_insert, list(row))\n",
    "        if i % 1000 == 0:\n",
    "            print(f\"finish insert {i} records\")\n",
    "\n",
    "insert_time(eventdf)\n"
   ]
  },
  {
   "cell_type": "code",
   "execution_count": 185,
   "metadata": {},
   "outputs": [
    {
     "output_type": "stream",
     "name": "stdout",
     "text": "finish insert 0 records\nfinish insert 0 records\nfinish insert 0 records\nfinish insert 0 records\nfinish insert 0 records\nfinish insert 0 records\nfinish insert 0 records\n"
    },
    {
     "output_type": "error",
     "ename": "KeyboardInterrupt",
     "evalue": "",
     "traceback": [
      "\u001b[0;31m---------------------------------------------------------------------------\u001b[0m",
      "\u001b[0;31mKeyboardInterrupt\u001b[0m                         Traceback (most recent call last)",
      "\u001b[0;32m<ipython-input-185-9d60fc0c4786>\u001b[0m in \u001b[0;36m<module>\u001b[0;34m\u001b[0m\n\u001b[1;32m      6\u001b[0m             \u001b[0mprint\u001b[0m\u001b[0;34m(\u001b[0m\u001b[0;34mf\"finish insert {i} records\"\u001b[0m\u001b[0;34m)\u001b[0m\u001b[0;34m\u001b[0m\u001b[0;34m\u001b[0m\u001b[0m\n\u001b[1;32m      7\u001b[0m \u001b[0;34m\u001b[0m\u001b[0m\n\u001b[0;32m----> 8\u001b[0;31m \u001b[0minsert_user\u001b[0m\u001b[0;34m(\u001b[0m\u001b[0meventdf\u001b[0m\u001b[0;34m)\u001b[0m\u001b[0;34m\u001b[0m\u001b[0;34m\u001b[0m\u001b[0m\n\u001b[0m\u001b[1;32m      9\u001b[0m \u001b[0;34m\u001b[0m\u001b[0m\n",
      "\u001b[0;32m<ipython-input-185-9d60fc0c4786>\u001b[0m in \u001b[0;36minsert_user\u001b[0;34m(eventdf)\u001b[0m\n\u001b[1;32m      2\u001b[0m     \u001b[0muserdf\u001b[0m \u001b[0;34m=\u001b[0m \u001b[0meventdf\u001b[0m\u001b[0;34m[\u001b[0m\u001b[0meventdf\u001b[0m\u001b[0;34m[\u001b[0m\u001b[0;34m'page'\u001b[0m\u001b[0;34m]\u001b[0m \u001b[0;34m==\u001b[0m \u001b[0;34m'NextSong'\u001b[0m\u001b[0;34m]\u001b[0m\u001b[0;34m.\u001b[0m\u001b[0mloc\u001b[0m\u001b[0;34m[\u001b[0m\u001b[0;34m:\u001b[0m\u001b[0;34m,\u001b[0m\u001b[0;34m[\u001b[0m\u001b[0;34m'userId'\u001b[0m\u001b[0;34m,\u001b[0m\u001b[0;34m'firstName'\u001b[0m\u001b[0;34m,\u001b[0m\u001b[0;34m'lastName'\u001b[0m\u001b[0;34m,\u001b[0m\u001b[0;34m'gender'\u001b[0m\u001b[0;34m,\u001b[0m\u001b[0;34m'level'\u001b[0m\u001b[0;34m]\u001b[0m\u001b[0;34m]\u001b[0m\u001b[0;34m\u001b[0m\u001b[0;34m\u001b[0m\u001b[0m\n\u001b[1;32m      3\u001b[0m     \u001b[0;32mfor\u001b[0m \u001b[0mi\u001b[0m\u001b[0;34m,\u001b[0m \u001b[0mrow\u001b[0m \u001b[0;32min\u001b[0m \u001b[0muserdf\u001b[0m\u001b[0;34m.\u001b[0m\u001b[0miterrows\u001b[0m\u001b[0;34m(\u001b[0m\u001b[0;34m)\u001b[0m\u001b[0;34m:\u001b[0m\u001b[0;34m\u001b[0m\u001b[0;34m\u001b[0m\u001b[0m\n\u001b[0;32m----> 4\u001b[0;31m         \u001b[0mcur\u001b[0m\u001b[0;34m.\u001b[0m\u001b[0mexecute\u001b[0m\u001b[0;34m(\u001b[0m\u001b[0muser_table_insert\u001b[0m\u001b[0;34m,\u001b[0m \u001b[0mlist\u001b[0m\u001b[0;34m(\u001b[0m\u001b[0mrow\u001b[0m\u001b[0;34m)\u001b[0m\u001b[0;34m)\u001b[0m\u001b[0;34m\u001b[0m\u001b[0;34m\u001b[0m\u001b[0m\n\u001b[0m\u001b[1;32m      5\u001b[0m         \u001b[0;32mif\u001b[0m \u001b[0mi\u001b[0m \u001b[0;34m%\u001b[0m \u001b[0;36m1000\u001b[0m \u001b[0;34m==\u001b[0m \u001b[0;36m0\u001b[0m\u001b[0;34m:\u001b[0m\u001b[0;34m\u001b[0m\u001b[0;34m\u001b[0m\u001b[0m\n\u001b[1;32m      6\u001b[0m             \u001b[0mprint\u001b[0m\u001b[0;34m(\u001b[0m\u001b[0;34mf\"finish insert {i} records\"\u001b[0m\u001b[0;34m)\u001b[0m\u001b[0;34m\u001b[0m\u001b[0;34m\u001b[0m\u001b[0m\n",
      "\u001b[0;32m~/anaconda3/lib/python3.7/encodings/utf_8.py\u001b[0m in \u001b[0;36mdecode\u001b[0;34m(input, errors)\u001b[0m\n\u001b[1;32m     13\u001b[0m \u001b[0mencode\u001b[0m \u001b[0;34m=\u001b[0m \u001b[0mcodecs\u001b[0m\u001b[0;34m.\u001b[0m\u001b[0mutf_8_encode\u001b[0m\u001b[0;34m\u001b[0m\u001b[0;34m\u001b[0m\u001b[0m\n\u001b[1;32m     14\u001b[0m \u001b[0;34m\u001b[0m\u001b[0m\n\u001b[0;32m---> 15\u001b[0;31m \u001b[0;32mdef\u001b[0m \u001b[0mdecode\u001b[0m\u001b[0;34m(\u001b[0m\u001b[0minput\u001b[0m\u001b[0;34m,\u001b[0m \u001b[0merrors\u001b[0m\u001b[0;34m=\u001b[0m\u001b[0;34m'strict'\u001b[0m\u001b[0;34m)\u001b[0m\u001b[0;34m:\u001b[0m\u001b[0;34m\u001b[0m\u001b[0;34m\u001b[0m\u001b[0m\n\u001b[0m\u001b[1;32m     16\u001b[0m     \u001b[0;32mreturn\u001b[0m \u001b[0mcodecs\u001b[0m\u001b[0;34m.\u001b[0m\u001b[0mutf_8_decode\u001b[0m\u001b[0;34m(\u001b[0m\u001b[0minput\u001b[0m\u001b[0;34m,\u001b[0m \u001b[0merrors\u001b[0m\u001b[0;34m,\u001b[0m \u001b[0;32mTrue\u001b[0m\u001b[0;34m)\u001b[0m\u001b[0;34m\u001b[0m\u001b[0;34m\u001b[0m\u001b[0m\n\u001b[1;32m     17\u001b[0m \u001b[0;34m\u001b[0m\u001b[0m\n",
      "\u001b[0;31mKeyboardInterrupt\u001b[0m: "
     ]
    }
   ],
   "source": [
    "def insert_user(eventdf):\n",
    "    userdf = eventdf[eventdf['page'] == 'NextSong'].loc[:,['userId','firstName','lastName','gender','level']]\n",
    "    for i, row in userdf.iterrows():\n",
    "        cur.execute(user_table_insert, list(row))\n",
    "        if i % 1000 == 0:\n",
    "            print(f\"finish insert {i} records\")\n",
    "\n",
    "insert_user(eventdf)\n",
    "\n"
   ]
  },
  {
   "cell_type": "code",
   "execution_count": 187,
   "metadata": {},
   "outputs": [],
   "source": [
    "cur.execute(\"\"\"rollback;\"\"\")\n",
    "conn.close()"
   ]
  }
 ],
 "metadata": {
  "hide_input": false,
  "kernelspec": {
   "display_name": "Python 3",
   "language": "python",
   "name": "python3"
  },
  "language_info": {
   "codemirror_mode": {
    "name": "ipython",
    "version": 3
   },
   "file_extension": ".py",
   "mimetype": "text/x-python",
   "name": "python",
   "nbconvert_exporter": "python",
   "pygments_lexer": "ipython3",
   "version": "3.7.3-final"
  },
  "toc": {
   "base_numbering": 1,
   "nav_menu": {},
   "number_sections": true,
   "sideBar": true,
   "skip_h1_title": false,
   "title_cell": "Table of Contents",
   "title_sidebar": "Contents",
   "toc_cell": false,
   "toc_position": {},
   "toc_section_display": true,
   "toc_window_display": false
  },
  "varInspector": {
   "cols": {
    "lenName": 16,
    "lenType": 16,
    "lenVar": 40
   },
   "kernels_config": {
    "python": {
     "delete_cmd_postfix": "",
     "delete_cmd_prefix": "del ",
     "library": "var_list.py",
     "varRefreshCmd": "print(var_dic_list())"
    },
    "r": {
     "delete_cmd_postfix": ") ",
     "delete_cmd_prefix": "rm(",
     "library": "var_list.r",
     "varRefreshCmd": "cat(var_dic_list()) "
    }
   },
   "types_to_exclude": [
    "module",
    "function",
    "builtin_function_or_method",
    "instance",
    "_Feature"
   ],
   "window_display": false
  }
 },
 "nbformat": 4,
 "nbformat_minor": 4
}